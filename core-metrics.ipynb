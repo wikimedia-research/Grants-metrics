{
 "cells": [
  {
   "cell_type": "code",
   "execution_count": null,
   "metadata": {},
   "outputs": [],
   "source": [
    "import pandas as pd\n",
    "import numpy as np\n",
    "from pandas import melt"
   ]
  },
  {
   "cell_type": "markdown",
   "metadata": {},
   "source": [
    "https://office.wikimedia.org/wiki/Quarters"
   ]
  },
  {
   "cell_type": "code",
   "execution_count": null,
   "metadata": {},
   "outputs": [],
   "source": [
    "all_funded = pd.read_csv('data/inputs/data-all-funded.csv')"
   ]
  },
  {
   "cell_type": "code",
   "execution_count": null,
   "metadata": {},
   "outputs": [],
   "source": [
    "# clean all_funded\n",
    "\n",
    "#drop rows without USD amount\n",
    "df = all_funded[all_funded['USD over grant life'] != 0]\n",
    "df = df[df['USD over grant life'].notnull()]\n",
    "\n",
    "#fix datatype for USD over grant life column\n",
    "df['USD over grant life'] = df['USD over grant life'].str.replace(',', '')\n",
    "df['USD over grant life'] = df['USD over grant life'].str.replace('$', '')\n",
    "df['USD over grant life'] = df['USD over grant life'].astype('float')\n",
    "\n",
    "#columns to datetime\n",
    "df['Approved on'] =  pd.to_datetime(df['Approved on'], errors = 'coerce')\n",
    "df['Executed on'] =  pd.to_datetime(df['Executed on'], errors = 'coerce')\n",
    "\n",
    "df['grant_count'] = df.groupby('Grantee').cumcount() + 1\n",
    "df[\"total_grantee_grants\"] = df.groupby('Grantee') ['Approved on'].transform('count')+1 #to start the count at \n",
    "\n",
    "df['counter'] = range(len(df))\n",
    "\n",
    "#assign unique IDs\n",
    "df['id'] = df.groupby('Grantee').ngroup()"
   ]
  },
  {
   "cell_type": "code",
   "execution_count": null,
   "metadata": {},
   "outputs": [],
   "source": [
    "df['Program'].unique()\n",
    "#grants_df = df[df['grant_count'] != 'Conference']\n",
    "\n",
    "#do not include TPS, PEG, IEG, Partnership Grants\n",
    "exclude = ['TPS', 'PEG', 'IEG', 'Partnership Grants', 'Conference', 'Wikicite', 'WMS']\n",
    "\n",
    "grants_df = df[~df['Program'].isin(exclude)]"
   ]
  },
  {
   "cell_type": "code",
   "execution_count": null,
   "metadata": {},
   "outputs": [],
   "source": [
    "grants_df20 = grants_df[grants_df['Fiscal year ending'] == 2020]"
   ]
  },
  {
   "cell_type": "markdown",
   "metadata": {},
   "source": [
    "### KR 1: Ensure 65% of all grants are from outside well established communities so that grantmaking becomes a key mechanism to empower and welcome newcomers and increase diversity of content."
   ]
  },
  {
   "cell_type": "code",
   "execution_count": null,
   "metadata": {
    "scrolled": true
   },
   "outputs": [],
   "source": [
    "grants_by_community = grants_df20.groupby(['Fiscal year ending', 'Community type'])['counter'].nunique().to_frame().rename(columns={'counter': 'unique_grants'}).reset_index()\n",
    "grants_by_community[grants_by_community['Community type']!='Developed']['unique_grants'].sum()/len(grants_df20)"
   ]
  },
  {
   "cell_type": "markdown",
   "metadata": {},
   "source": [
    "### % of grantees who are new"
   ]
  },
  {
   "cell_type": "code",
   "execution_count": null,
   "metadata": {},
   "outputs": [],
   "source": [
    "total_grants = grants_df20.groupby('Fiscal year ending').size().to_frame().reset_index().rename(columns={0: 'total_granted'})\n",
    "unique_grantees = grants_df20.groupby('Fiscal year ending')['Grantee'].nunique().to_frame().reset_index().rename(columns={'Grantee': 'unique_grantees'})\n",
    "unique_new_grantees = grants_df20[grants_df20['grant_count'] == 1].groupby('Fiscal year ending')['Grantee'].nunique().to_frame().reset_index().rename(columns={'Grantee': 'unique_n_grantees'})\n",
    "\n",
    "#get a count of all grants awarded to a new grantee that has not received a grant in a previous year, not including those grantees that doubled up in their first\n",
    "#year and received a follow-up grant\n",
    "new_grantee_grants = pd.pivot_table(data=grants_df20[grants_df20['grant_count'] == 1], index='Fiscal year ending', values='counter', aggfunc='count').reset_index().rename(columns={'counter': 'total_n_grantee_grants'})\n",
    "\n",
    "#create roll_up df combining the dfs above\n",
    "year_roll_up = total_grants.merge(unique_grantees, on='Fiscal year ending', how='left').merge(unique_new_grantees, on='Fiscal year ending', how='left')\n",
    "year_roll_up['n_grantee %'] = year_roll_up['unique_n_grantees'] / year_roll_up['unique_grantees']"
   ]
  },
  {
   "cell_type": "code",
   "execution_count": null,
   "metadata": {},
   "outputs": [],
   "source": [
    "year_roll_up"
   ]
  },
  {
   "cell_type": "markdown",
   "metadata": {},
   "source": [
    "### % of grantees who are new from emerging community"
   ]
  },
  {
   "cell_type": "code",
   "execution_count": null,
   "metadata": {},
   "outputs": [],
   "source": [
    "unique_new_grantees_by_comm = grants_df20[grants_df20['grant_count'] == 1].groupby(['Fiscal year ending', 'Community type'])['Grantee'].nunique().to_frame().rename(columns={'Grantee': 'unique_n_grantees'}).reset_index()\n",
    "unique_new_grantees_by_comm[unique_new_grantees_by_comm['Community type'] == 'Emerging']['unique_n_grantees'].sum()/unique_new_grantees_by_comm['unique_n_grantees'].sum()"
   ]
  },
  {
   "cell_type": "markdown",
   "metadata": {},
   "source": [
    "### % of grantees who are new and outside of developed communities"
   ]
  },
  {
   "cell_type": "code",
   "execution_count": null,
   "metadata": {},
   "outputs": [],
   "source": [
    "unique_new_grantees_by_comm[unique_new_grantees_by_comm['Community type']!='Developed']['unique_n_grantees'].sum()/unique_new_grantees_by_comm['unique_n_grantees'].sum()"
   ]
  },
  {
   "cell_type": "markdown",
   "metadata": {},
   "source": [
    "### % of all funds for all grants in emerging and least developed communities"
   ]
  },
  {
   "cell_type": "code",
   "execution_count": null,
   "metadata": {},
   "outputs": [],
   "source": [
    "grants_df20[grants_df20['Community type'].str.match('Emerging|Least Developed')]['USD over grant life'].sum()/grants_df20['USD over grant life'].sum()"
   ]
  },
  {
   "cell_type": "markdown",
   "metadata": {},
   "source": [
    "### % gender focused grant funding"
   ]
  },
  {
   "cell_type": "code",
   "execution_count": null,
   "metadata": {},
   "outputs": [],
   "source": [
    "grants_df20[grants_df20['Gender gap (Y/N)'] == 'Yes']['USD over grant life'].sum()/grants_df20['USD over grant life'].sum()"
   ]
  },
  {
   "cell_type": "markdown",
   "metadata": {},
   "source": [
    "### % of rapid grantees that had more than one rapid grant in the reporting year"
   ]
  },
  {
   "cell_type": "code",
   "execution_count": null,
   "metadata": {},
   "outputs": [],
   "source": [
    "rgrbg_20 = grants_df20[grants_df20['Program'] == 'Rapid'].groupby('Grantee').size().to_frame().reset_index().rename(columns={0: 'rapid_grants_received'})\n",
    "rgrbg_20_receiving_multiple = len(rgrbg_20[rgrbg_20['rapid_grants_received'] >= 2])/len(rgrbg_20)\n",
    "rgrbg_20_receiving_multiple"
   ]
  },
  {
   "cell_type": "markdown",
   "metadata": {},
   "source": [
    "### % of rapid grant grantees that received a rapid grant in the year prior"
   ]
  },
  {
   "cell_type": "code",
   "execution_count": null,
   "metadata": {},
   "outputs": [],
   "source": [
    "rapid_20 = df[(df['Program']=='Rapid') & (df['Fiscal year ending']==2020)]\n",
    "rapid_19 = df[(df['Program']=='Rapid') & (df['Fiscal year ending']==2019)]\n",
    "\n",
    "r19list = list(rapid_19['Grantee'].unique())\n",
    "r_grantees_2020_that_received_prior_r_grant  = rapid_20[rapid_20['Grantee'].isin(r19list)]\n",
    "\n",
    "print('r_grantees_2020_that_received_prior_r_grant:', len(r_grantees_2020_that_received_prior_r_grant)) \n",
    "print('2019 rapid Grantees:', len(r19list))\n",
    "print('2020 rapid Grantees:', len(rapid_20['Grantee'].unique()))\n",
    "print('2020 R grant Grantees that received prior rapid grants in prior year:',(len(r_grantees_2020_that_received_prior_r_grant)/len(rapid_20['Grantee'].unique())*100), '%')"
   ]
  }
 ],
 "metadata": {
  "kernelspec": {
   "display_name": "Python 3",
   "language": "python",
   "name": "python3"
  },
  "language_info": {
   "codemirror_mode": {
    "name": "ipython",
    "version": 3
   },
   "file_extension": ".py",
   "mimetype": "text/x-python",
   "name": "python",
   "nbconvert_exporter": "python",
   "pygments_lexer": "ipython3",
   "version": "3.7.3"
  }
 },
 "nbformat": 4,
 "nbformat_minor": 4
}
